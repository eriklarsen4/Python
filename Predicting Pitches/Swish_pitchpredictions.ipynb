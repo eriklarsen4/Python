{
 "cells": [
  {
   "cell_type": "markdown",
   "metadata": {},
   "source": [
    "# Import the pandas, numpy, matplotlib, seaborn, lightgbm, and sklearn libraries"
   ]
  },
  {
   "cell_type": "code",
   "execution_count": 2,
   "metadata": {},
   "outputs": [
    {
     "name": "stdout",
     "output_type": "stream",
     "text": [
      "C:\\Users\\Erik\\Desktop\\Programming\\Python\\WinPython-64bit-3.6.1.0Qt5\\notebooks\\docs\\Swish\\pitchpredictions.ipynb\n"
     ]
    }
   ],
   "source": [
    "## Clear the environment!\n",
    "import sys\n",
    "import os\n",
    "\n",
    "abpath = os.path.abspath(\"pitchpredictions.ipynb\")\n",
    "print(abpath)\n",
    "\n",
    "import pandas as pd\n",
    "from pandas import DataFrame\n",
    "import numpy as np\n",
    "import matplotlib.pyplot as plt\n",
    "from collections import defaultdict\n",
    "import seaborn as sns\n",
    "\n",
    "from lightgbm import LGBMClassifier\n",
    "from sklearn.naive_bayes import ComplementNB\n",
    "from sklearn.multiclass import OneVsRestClassifier\n",
    "from sklearn.model_selection import train_test_split\n",
    "from sklearn.model_selection import cross_val_score\n",
    "from sklearn.model_selection import GridSearchCV\n",
    "from sklearn.model_selection import KFold\n",
    "from sklearn.metrics import confusion_matrix\n",
    "from sklearn.metrics import accuracy_score\n",
    "from sklearn.metrics import precision_recall_fscore_support\n",
    "from sklearn.utils import class_weight\n",
    "\n",
    "from random import sample"
   ]
  },
  {
   "cell_type": "markdown",
   "metadata": {},
   "source": [
    " I've never used a **gradient-boosted machine** or a **naive Bayes classifier**, and was crazy enough to take a risk and try it:\n",
    "   it's a large, multi-class classification task with a strong motivation for speed and not necessarily\n",
    "   accuracy. I explored the data, using my background knowledge of the game to manually investigate features\n",
    "   (how many `pitches`? what `types`? how many `games`, `pitchers`, `hitters`, `years`, etc.) first.\n",
    "   I then checked my assumptions/suspicions with feature importance.\n",
    "   \n",
    "   **I condensed a group of features I thought might be powerful** (runners on which bases and how many outs)\n",
    "   to speed up computation/fit time. This variable in baseball analytics is used to derive \"leverage\" (game situation value; **RE24**).\n",
    "   Having runners on base can significantly effect the pitch choices, and especially when integrated with the outs and score.\n",
    "   Yet, I surprisingly found this was extremely unimportant, and obviously computationally costly, but I kept the\n",
    "   (inefficient) code to demonstrate thought process.\n",
    "    \n",
    "   **I then focused on cutting all my features down** to the smallest of `pitcher_id`, `batter_id`, and `score`, which I broke down as\n",
    "   categorical data. I compared using `gridsearch` as cross-validation, optimizing one parameter\n",
    "   (a regularization term) to a non-cross-validated, nor hyperparameter-optimized `GBM` to address overfitting, as is likely in this scenario.\n",
    "   **I contrasted speed/accuracy across models**. In real time, I recognize a gridsearch approach won't be viable pitch-to-pitch to re-fit,\n",
    "   or even between innings, but if the model could be built offline and tested for game(s) each day, it might be more informative.\n",
    "    \n",
    "   **Since this is multi-class classification, I measured accuracy with a confusion matrix, precision, recall, and F1.**\n",
    "   Ultimately, **the CV bgm and naive Bayes classifier performed similarly**. Given the extra computation time for gridsearching and CV,\n",
    "   **I opted for** a slightly less precise model with comparable accuracy (**naive Bayes**), also factoring in that the model delivered the most similar\n",
    "   distribution of pitch types-- not 80-90% predicted fastballs."
   ]
  },
  {
   "cell_type": "markdown",
   "metadata": {},
   "source": [
    "# Import data and data prep"
   ]
  },
  {
   "cell_type": "code",
   "execution_count": 4,
   "metadata": {
    "collapsed": true
   },
   "outputs": [],
   "source": [
    "# Import the data from a relevant filepath\n",
    "\n",
    "PITCHES = pd.read_csv('C:/Users/Erik/Desktop/Programming/Python/WinPython-64bit-3.6.1.0Qt5/notebooks/docs/Swish/pitches',\n",
    "                       index_col = 0,\n",
    "                       comment = \";\",\n",
    "                       low_memory = False)\n",
    "\n",
    "PITCHES = pd.DataFrame(PITCHES)\n",
    "\n",
    "    ## Check out the pitch types\n",
    "PITCHES['pitch_type'].unique().tolist()\n",
    "len(PITCHES['pitch_type'].unique().tolist()) ## Some unknown pitch types, even by MLBAM categories\n",
    "    ## Check out pitcher and hitter/batter id's\n",
    "len(PITCHES['batter_id'].unique().tolist()) ## roughly an entire season's worth of unique hitters\n",
    "len(PITCHES['pitcher_id'].unique().tolist()) ## roughly an entire season's worth of unique pitchers\n",
    "\n",
    "    ## How many are nan?\n",
    "len(PITCHES.loc[PITCHES['pitch_type'].isnull(), 'pitch_type'])\n",
    "    ## 2280.. surprisingly a lot.\n",
    "    \n",
    "    ## Remove excess data; manual feature selection, and remove nan pitch_types:\n",
    "        ## pcount_pitcher, pcount_at_bat, final_pitch, balls, strikes, outs, inning, batter_id, stand,\n",
    "        ## pitcher_id, p_throws, away_team_runs, home_team_runs, on_1b, on_2b, on_3b, pitch_type\n",
    "PITCHES_subset = PITCHES.loc[PITCHES['pitch_type'].notnull(),\n",
    "                             ['inning', 'pcount_pitcher', 'balls', 'strikes', 'outs',\n",
    "                                  'stand', 'p_throws',\n",
    "                                  'away_team_runs', 'home_team_runs',\n",
    "                                  'on_1b', 'on_2b', 'on_3b', 'pitch_type']\n",
    "                             ]\n",
    "    ## Create a list of the pitch types\n",
    "pitch_type_list = PITCHES_subset['pitch_type'].unique().tolist()\n",
    "\n",
    "    ## Loop over the list and create a column of integer encoded values to examine the freq dist. of the pitch types\n",
    "for i in range(len(pitch_type_list)):\n",
    "    PITCHES_subset.loc[ PITCHES_subset['pitch_type'] == pitch_type_list[i], 'pitch_type_int'] = i+1\n",
    "    ## Create a corresponding integer-encoded list of those pitch_type values/integers\n",
    "pitch_type_list_int = [i+1 for i in range(len(pitch_type_list))]"
   ]
  },
  {
   "cell_type": "markdown",
   "metadata": {},
   "source": [
    "# Eval the distributions of the data"
   ]
  },
  {
   "cell_type": "code",
   "execution_count": 14,
   "metadata": {},
   "outputs": [
    {
     "name": "stderr",
     "output_type": "stream",
     "text": [
      "C:\\Users\\Erik\\Desktop\\Programming\\Python\\WinPython-64bit-3.6.1.0Qt5\\python-3.6.1.amd64\\lib\\site-packages\\matplotlib\\cbook.py:2216: FutureWarning: Support for multi-dimensional indexing (e.g. `obj[:, None]`) is deprecated and will be removed in a future version.  Convert to a numpy array before indexing instead.\n",
      "  x[:, None]\n",
      "C:\\Users\\Erik\\Desktop\\Programming\\Python\\WinPython-64bit-3.6.1.0Qt5\\python-3.6.1.amd64\\lib\\site-packages\\matplotlib\\axes\\_base.py:250: FutureWarning: Support for multi-dimensional indexing (e.g. `obj[:, None]`) is deprecated and will be removed in a future version.  Convert to a numpy array before indexing instead.\n",
      "  x = x[:, np.newaxis]\n",
      "C:\\Users\\Erik\\Desktop\\Programming\\Python\\WinPython-64bit-3.6.1.0Qt5\\python-3.6.1.amd64\\lib\\site-packages\\matplotlib\\axes\\_base.py:252: FutureWarning: Support for multi-dimensional indexing (e.g. `obj[:, None]`) is deprecated and will be removed in a future version.  Convert to a numpy array before indexing instead.\n",
      "  y = y[:, np.newaxis]\n"
     ]
    },
    {
     "name": "stdout",
     "output_type": "stream",
     "text": [
      "FF : 238541\n",
      "SL : 109756\n",
      "CU : 56379\n",
      "SI : 87740\n",
      "FC : 41702\n",
      "FT : 81056\n",
      "KC : 8490\n",
      "CH : 72641\n",
      "IN : 4058\n",
      "KN : 4450\n",
      "FS : 10503\n",
      "FA : 204\n",
      "PO : 559\n",
      "FO : 329\n",
      "EP : 134\n",
      "UN : 17\n",
      "SC : 120"
     ]
    },
    {
     "name": "stderr",
     "output_type": "stream",
     "text": [
      "C:\\Users\\Erik\\Desktop\\Programming\\Python\\WinPython-64bit-3.6.1.0Qt5\\python-3.6.1.amd64\\lib\\site-packages\\pandas\\core\\indexing.py:670: SettingWithCopyWarning: \n",
      "A value is trying to be set on a copy of a slice from a DataFrame\n",
      "\n",
      "See the caveats in the documentation: https://pandas.pydata.org/pandas-docs/stable/user_guide/indexing.html#returning-a-view-versus-a-copy\n",
      "  iloc._setitem_with_indexer(indexer, value)\n"
     ]
    },
    {
     "name": "stdout",
     "output_type": "stream",
     "text": [
      "\n",
      "AB : 2\n"
     ]
    }
   ],
   "source": [
    "-"
   ]
  },
  {
   "cell_type": "code",
   "execution_count": 15,
   "metadata": {
    "collapsed": true
   },
   "outputs": [],
   "source": [
    "## Derive new column, 'baseout_state' (aka RE24), that integrates how many runners on, where, and how many outs:\n",
    "    ## 0 outs\n",
    "        ## empty = 0, 1b = 1, 2b = 2, 3b = 3, 1b & 2b = 4, 1b & 3b = 5, 2b & 3b = 6, loaded = 7\n",
    "    ## 1 out\n",
    "        ## empty = 8, 1b = 9, 2b = 10, 3b = 11, 1b & 2b = 12, 1b & 3b = 13, 2b & 3b = 14, loaded = 15\n",
    "    ## 2 outs\n",
    "        ## empty = 16, 1b = 17, 2b = 18, 3b = 19, 1b & 2b = 20, 1b & 3b = 21, 2b & 3b = 22, loaded = 23"
   ]
  },
  {
   "cell_type": "code",
   "execution_count": 16,
   "metadata": {
    "collapsed": true
   },
   "outputs": [],
   "source": [
    "PITCHES_subset = PITCHES_subset.assign(baseout_state = 0)"
   ]
  },
  {
   "cell_type": "code",
   "execution_count": 17,
   "metadata": {},
   "outputs": [
    {
     "name": "stderr",
     "output_type": "stream",
     "text": [
      "C:\\Users\\Erik\\Desktop\\Programming\\Python\\WinPython-64bit-3.6.1.0Qt5\\python-3.6.1.amd64\\lib\\site-packages\\pandas\\core\\indexing.py:670: SettingWithCopyWarning: \n",
      "A value is trying to be set on a copy of a slice from a DataFrame\n",
      "\n",
      "See the caveats in the documentation: https://pandas.pydata.org/pandas-docs/stable/user_guide/indexing.html#returning-a-view-versus-a-copy\n",
      "  iloc._setitem_with_indexer(indexer, value)\n",
      "C:\\Users\\Erik\\Desktop\\Programming\\Python\\WinPython-64bit-3.6.1.0Qt5\\python-3.6.1.amd64\\lib\\site-packages\\pandas\\core\\indexing.py:670: SettingWithCopyWarning: \n",
      "A value is trying to be set on a copy of a slice from a DataFrame\n",
      "\n",
      "See the caveats in the documentation: https://pandas.pydata.org/pandas-docs/stable/user_guide/indexing.html#returning-a-view-versus-a-copy\n",
      "  iloc._setitem_with_indexer(indexer, value)\n",
      "C:\\Users\\Erik\\Desktop\\Programming\\Python\\WinPython-64bit-3.6.1.0Qt5\\python-3.6.1.amd64\\lib\\site-packages\\pandas\\core\\indexing.py:670: SettingWithCopyWarning: \n",
      "A value is trying to be set on a copy of a slice from a DataFrame\n",
      "\n",
      "See the caveats in the documentation: https://pandas.pydata.org/pandas-docs/stable/user_guide/indexing.html#returning-a-view-versus-a-copy\n",
      "  iloc._setitem_with_indexer(indexer, value)\n",
      "C:\\Users\\Erik\\Desktop\\Programming\\Python\\WinPython-64bit-3.6.1.0Qt5\\python-3.6.1.amd64\\lib\\site-packages\\pandas\\core\\indexing.py:670: SettingWithCopyWarning: \n",
      "A value is trying to be set on a copy of a slice from a DataFrame\n",
      "\n",
      "See the caveats in the documentation: https://pandas.pydata.org/pandas-docs/stable/user_guide/indexing.html#returning-a-view-versus-a-copy\n",
      "  iloc._setitem_with_indexer(indexer, value)\n",
      "C:\\Users\\Erik\\Desktop\\Programming\\Python\\WinPython-64bit-3.6.1.0Qt5\\python-3.6.1.amd64\\lib\\site-packages\\pandas\\core\\indexing.py:670: SettingWithCopyWarning: \n",
      "A value is trying to be set on a copy of a slice from a DataFrame\n",
      "\n",
      "See the caveats in the documentation: https://pandas.pydata.org/pandas-docs/stable/user_guide/indexing.html#returning-a-view-versus-a-copy\n",
      "  iloc._setitem_with_indexer(indexer, value)\n",
      "C:\\Users\\Erik\\Desktop\\Programming\\Python\\WinPython-64bit-3.6.1.0Qt5\\python-3.6.1.amd64\\lib\\site-packages\\pandas\\core\\indexing.py:670: SettingWithCopyWarning: \n",
      "A value is trying to be set on a copy of a slice from a DataFrame\n",
      "\n",
      "See the caveats in the documentation: https://pandas.pydata.org/pandas-docs/stable/user_guide/indexing.html#returning-a-view-versus-a-copy\n",
      "  iloc._setitem_with_indexer(indexer, value)\n",
      "C:\\Users\\Erik\\Desktop\\Programming\\Python\\WinPython-64bit-3.6.1.0Qt5\\python-3.6.1.amd64\\lib\\site-packages\\pandas\\core\\indexing.py:670: SettingWithCopyWarning: \n",
      "A value is trying to be set on a copy of a slice from a DataFrame\n",
      "\n",
      "See the caveats in the documentation: https://pandas.pydata.org/pandas-docs/stable/user_guide/indexing.html#returning-a-view-versus-a-copy\n",
      "  iloc._setitem_with_indexer(indexer, value)\n",
      "C:\\Users\\Erik\\Desktop\\Programming\\Python\\WinPython-64bit-3.6.1.0Qt5\\python-3.6.1.amd64\\lib\\site-packages\\pandas\\core\\indexing.py:670: SettingWithCopyWarning: \n",
      "A value is trying to be set on a copy of a slice from a DataFrame\n",
      "\n",
      "See the caveats in the documentation: https://pandas.pydata.org/pandas-docs/stable/user_guide/indexing.html#returning-a-view-versus-a-copy\n",
      "  iloc._setitem_with_indexer(indexer, value)\n",
      "C:\\Users\\Erik\\Desktop\\Programming\\Python\\WinPython-64bit-3.6.1.0Qt5\\python-3.6.1.amd64\\lib\\site-packages\\pandas\\core\\indexing.py:670: SettingWithCopyWarning: \n",
      "A value is trying to be set on a copy of a slice from a DataFrame\n",
      "\n",
      "See the caveats in the documentation: https://pandas.pydata.org/pandas-docs/stable/user_guide/indexing.html#returning-a-view-versus-a-copy\n",
      "  iloc._setitem_with_indexer(indexer, value)\n",
      "C:\\Users\\Erik\\Desktop\\Programming\\Python\\WinPython-64bit-3.6.1.0Qt5\\python-3.6.1.amd64\\lib\\site-packages\\pandas\\core\\indexing.py:670: SettingWithCopyWarning: \n",
      "A value is trying to be set on a copy of a slice from a DataFrame\n",
      "\n",
      "See the caveats in the documentation: https://pandas.pydata.org/pandas-docs/stable/user_guide/indexing.html#returning-a-view-versus-a-copy\n",
      "  iloc._setitem_with_indexer(indexer, value)\n",
      "C:\\Users\\Erik\\Desktop\\Programming\\Python\\WinPython-64bit-3.6.1.0Qt5\\python-3.6.1.amd64\\lib\\site-packages\\pandas\\core\\indexing.py:670: SettingWithCopyWarning: \n",
      "A value is trying to be set on a copy of a slice from a DataFrame\n",
      "\n",
      "See the caveats in the documentation: https://pandas.pydata.org/pandas-docs/stable/user_guide/indexing.html#returning-a-view-versus-a-copy\n",
      "  iloc._setitem_with_indexer(indexer, value)\n",
      "C:\\Users\\Erik\\Desktop\\Programming\\Python\\WinPython-64bit-3.6.1.0Qt5\\python-3.6.1.amd64\\lib\\site-packages\\pandas\\core\\indexing.py:670: SettingWithCopyWarning: \n",
      "A value is trying to be set on a copy of a slice from a DataFrame\n",
      "\n",
      "See the caveats in the documentation: https://pandas.pydata.org/pandas-docs/stable/user_guide/indexing.html#returning-a-view-versus-a-copy\n",
      "  iloc._setitem_with_indexer(indexer, value)\n",
      "C:\\Users\\Erik\\Desktop\\Programming\\Python\\WinPython-64bit-3.6.1.0Qt5\\python-3.6.1.amd64\\lib\\site-packages\\pandas\\core\\indexing.py:670: SettingWithCopyWarning: \n",
      "A value is trying to be set on a copy of a slice from a DataFrame\n",
      "\n",
      "See the caveats in the documentation: https://pandas.pydata.org/pandas-docs/stable/user_guide/indexing.html#returning-a-view-versus-a-copy\n",
      "  iloc._setitem_with_indexer(indexer, value)\n",
      "C:\\Users\\Erik\\Desktop\\Programming\\Python\\WinPython-64bit-3.6.1.0Qt5\\python-3.6.1.amd64\\lib\\site-packages\\pandas\\core\\indexing.py:670: SettingWithCopyWarning: \n",
      "A value is trying to be set on a copy of a slice from a DataFrame\n",
      "\n",
      "See the caveats in the documentation: https://pandas.pydata.org/pandas-docs/stable/user_guide/indexing.html#returning-a-view-versus-a-copy\n",
      "  iloc._setitem_with_indexer(indexer, value)\n",
      "C:\\Users\\Erik\\Desktop\\Programming\\Python\\WinPython-64bit-3.6.1.0Qt5\\python-3.6.1.amd64\\lib\\site-packages\\pandas\\core\\indexing.py:670: SettingWithCopyWarning: \n",
      "A value is trying to be set on a copy of a slice from a DataFrame\n",
      "\n",
      "See the caveats in the documentation: https://pandas.pydata.org/pandas-docs/stable/user_guide/indexing.html#returning-a-view-versus-a-copy\n",
      "  iloc._setitem_with_indexer(indexer, value)\n",
      "C:\\Users\\Erik\\Desktop\\Programming\\Python\\WinPython-64bit-3.6.1.0Qt5\\python-3.6.1.amd64\\lib\\site-packages\\pandas\\core\\indexing.py:670: SettingWithCopyWarning: \n",
      "A value is trying to be set on a copy of a slice from a DataFrame\n",
      "\n",
      "See the caveats in the documentation: https://pandas.pydata.org/pandas-docs/stable/user_guide/indexing.html#returning-a-view-versus-a-copy\n",
      "  iloc._setitem_with_indexer(indexer, value)\n",
      "C:\\Users\\Erik\\Desktop\\Programming\\Python\\WinPython-64bit-3.6.1.0Qt5\\python-3.6.1.amd64\\lib\\site-packages\\pandas\\core\\indexing.py:670: SettingWithCopyWarning: \n",
      "A value is trying to be set on a copy of a slice from a DataFrame\n",
      "\n",
      "See the caveats in the documentation: https://pandas.pydata.org/pandas-docs/stable/user_guide/indexing.html#returning-a-view-versus-a-copy\n",
      "  iloc._setitem_with_indexer(indexer, value)\n",
      "C:\\Users\\Erik\\Desktop\\Programming\\Python\\WinPython-64bit-3.6.1.0Qt5\\python-3.6.1.amd64\\lib\\site-packages\\pandas\\core\\indexing.py:670: SettingWithCopyWarning: \n",
      "A value is trying to be set on a copy of a slice from a DataFrame\n",
      "\n",
      "See the caveats in the documentation: https://pandas.pydata.org/pandas-docs/stable/user_guide/indexing.html#returning-a-view-versus-a-copy\n",
      "  iloc._setitem_with_indexer(indexer, value)\n",
      "C:\\Users\\Erik\\Desktop\\Programming\\Python\\WinPython-64bit-3.6.1.0Qt5\\python-3.6.1.amd64\\lib\\site-packages\\pandas\\core\\indexing.py:670: SettingWithCopyWarning: \n",
      "A value is trying to be set on a copy of a slice from a DataFrame\n",
      "\n",
      "See the caveats in the documentation: https://pandas.pydata.org/pandas-docs/stable/user_guide/indexing.html#returning-a-view-versus-a-copy\n",
      "  iloc._setitem_with_indexer(indexer, value)\n",
      "C:\\Users\\Erik\\Desktop\\Programming\\Python\\WinPython-64bit-3.6.1.0Qt5\\python-3.6.1.amd64\\lib\\site-packages\\pandas\\core\\indexing.py:670: SettingWithCopyWarning: \n",
      "A value is trying to be set on a copy of a slice from a DataFrame\n",
      "\n",
      "See the caveats in the documentation: https://pandas.pydata.org/pandas-docs/stable/user_guide/indexing.html#returning-a-view-versus-a-copy\n",
      "  iloc._setitem_with_indexer(indexer, value)\n",
      "C:\\Users\\Erik\\Desktop\\Programming\\Python\\WinPython-64bit-3.6.1.0Qt5\\python-3.6.1.amd64\\lib\\site-packages\\pandas\\core\\indexing.py:670: SettingWithCopyWarning: \n",
      "A value is trying to be set on a copy of a slice from a DataFrame\n",
      "\n",
      "See the caveats in the documentation: https://pandas.pydata.org/pandas-docs/stable/user_guide/indexing.html#returning-a-view-versus-a-copy\n",
      "  iloc._setitem_with_indexer(indexer, value)\n",
      "C:\\Users\\Erik\\Desktop\\Programming\\Python\\WinPython-64bit-3.6.1.0Qt5\\python-3.6.1.amd64\\lib\\site-packages\\pandas\\core\\indexing.py:670: SettingWithCopyWarning: \n",
      "A value is trying to be set on a copy of a slice from a DataFrame\n",
      "\n",
      "See the caveats in the documentation: https://pandas.pydata.org/pandas-docs/stable/user_guide/indexing.html#returning-a-view-versus-a-copy\n",
      "  iloc._setitem_with_indexer(indexer, value)\n",
      "C:\\Users\\Erik\\Desktop\\Programming\\Python\\WinPython-64bit-3.6.1.0Qt5\\python-3.6.1.amd64\\lib\\site-packages\\pandas\\core\\indexing.py:670: SettingWithCopyWarning: \n",
      "A value is trying to be set on a copy of a slice from a DataFrame\n",
      "\n",
      "See the caveats in the documentation: https://pandas.pydata.org/pandas-docs/stable/user_guide/indexing.html#returning-a-view-versus-a-copy\n",
      "  iloc._setitem_with_indexer(indexer, value)\n"
     ]
    }
   ],
   "source": [
    "## Fill\n",
    "    ## 0 outs\n",
    "        ## 1b only\n",
    "PITCHES_subset['baseout_state'].loc[(PITCHES_subset['on_1b'].notnull()) &\n",
    "                (PITCHES_subset['on_2b'].isnull()) &\n",
    "                (PITCHES_subset['on_3b'].isnull()) &\n",
    "                (PITCHES_subset['outs'] == 0)] = 1\n",
    "        ## 2b only\n",
    "PITCHES_subset['baseout_state'].loc[(PITCHES_subset['on_1b'].isnull()) &\n",
    "                (PITCHES_subset['on_2b'].notnull()) &\n",
    "                (PITCHES_subset['on_3b'].isnull()) &\n",
    "                (PITCHES_subset['outs'] == 0)] = 2\n",
    "        ## 3b only\n",
    "PITCHES_subset['baseout_state'].loc[(PITCHES_subset['on_1b'].isnull()) &\n",
    "                (PITCHES_subset['on_2b'].isnull()) &\n",
    "                (PITCHES_subset['on_3b'].notnull()) &\n",
    "                (PITCHES_subset['outs'] == 0)] = 3\n",
    "        ## 1b & 2b\n",
    "PITCHES_subset['baseout_state'].loc[(PITCHES_subset['on_1b'].notnull()) &\n",
    "                (PITCHES_subset['on_2b'].notnull()) &\n",
    "                (PITCHES_subset['on_3b'].isnull()) &\n",
    "                (PITCHES_subset['outs'] == 0)] = 4\n",
    "        ## 1b & 3b\n",
    "PITCHES_subset['baseout_state'].loc[(PITCHES_subset['on_1b'].notnull()) &\n",
    "                (PITCHES_subset['on_2b'].isnull()) &\n",
    "                (PITCHES_subset['on_3b'].notnull()) &\n",
    "                (PITCHES_subset['outs'] == 0)] = 5\n",
    "        ## 2b & 3b\n",
    "PITCHES_subset['baseout_state'].loc[(PITCHES_subset['on_1b'].isnull()) &\n",
    "                (PITCHES_subset['on_2b'].notnull()) &\n",
    "                (PITCHES_subset['on_3b'].notnull()) &\n",
    "                (PITCHES_subset['outs'] == 0)] = 6\n",
    "        ## Loaded\n",
    "PITCHES_subset['baseout_state'].loc[(PITCHES_subset['on_1b'].notnull()) &\n",
    "                (PITCHES_subset['on_2b'].notnull()) &\n",
    "                (PITCHES_subset['on_3b'].notnull()) &\n",
    "                (PITCHES_subset['outs'] == 0)] = 7\n",
    "\n",
    "    ## 1 out\n",
    "        ## empty\n",
    "PITCHES_subset['baseout_state'].loc[(PITCHES_subset['on_1b'].isnull()) &\n",
    "                (PITCHES_subset['on_2b'].isnull()) &\n",
    "                (PITCHES_subset['on_3b'].isnull()) &\n",
    "                (PITCHES_subset['outs'] == 1)] = 8\n",
    "        ## 1b only\n",
    "PITCHES_subset['baseout_state'].loc[(PITCHES_subset['on_1b'].notnull()) &\n",
    "                (PITCHES_subset['on_2b'].isnull()) &\n",
    "                (PITCHES_subset['on_3b'].isnull()) &\n",
    "                (PITCHES_subset['outs'] == 1)] = 9\n",
    "        ## 2b only\n",
    "PITCHES_subset['baseout_state'].loc[(PITCHES_subset['on_1b'].isnull()) &\n",
    "                (PITCHES_subset['on_2b'].notnull()) &\n",
    "                (PITCHES_subset['on_3b'].isnull()) &\n",
    "                (PITCHES_subset['outs'] == 1)] = 10\n",
    "        ## 3b only\n",
    "PITCHES_subset['baseout_state'].loc[(PITCHES_subset['on_1b'].isnull()) &\n",
    "                (PITCHES_subset['on_2b'].isnull()) &\n",
    "                (PITCHES_subset['on_3b'].notnull()) &\n",
    "                (PITCHES_subset['outs'] == 1)] = 11\n",
    "        ## 1b & 2b\n",
    "PITCHES_subset['baseout_state'].loc[(PITCHES_subset['on_1b'].notnull()) &\n",
    "                (PITCHES_subset['on_2b'].notnull()) &\n",
    "                (PITCHES_subset['on_3b'].isnull()) &\n",
    "                (PITCHES_subset['outs'] == 1)] = 12\n",
    "        ## 1b & 3b\n",
    "PITCHES_subset['baseout_state'].loc[(PITCHES_subset['on_1b'].notnull()) &\n",
    "                (PITCHES_subset['on_2b'].isnull()) &\n",
    "                (PITCHES_subset['on_3b'].notnull()) &\n",
    "                (PITCHES_subset['outs'] == 1)] = 13\n",
    "        ## 2b & 3b\n",
    "PITCHES_subset['baseout_state'].loc[(PITCHES_subset['on_1b'].isnull()) &\n",
    "                (PITCHES_subset['on_2b'].notnull()) &\n",
    "                (PITCHES_subset['on_3b'].notnull()) &\n",
    "                (PITCHES_subset['outs'] == 1)] = 14\n",
    "        ## Loaded\n",
    "PITCHES_subset['baseout_state'].loc[(PITCHES_subset['on_1b'].notnull()) &\n",
    "                (PITCHES_subset['on_2b'].notnull()) &\n",
    "                (PITCHES_subset['on_3b'].notnull()) &\n",
    "                (PITCHES_subset['outs'] == 1)] = 15\n",
    "                                 \n",
    "    ## 2 outs\n",
    "        ## empty\n",
    "PITCHES_subset['baseout_state'].loc[(PITCHES_subset['on_1b'].isnull()) &\n",
    "                (PITCHES_subset['on_2b'].isnull()) &\n",
    "                (PITCHES_subset['on_3b'].isnull()) &\n",
    "                (PITCHES_subset['outs'] == 2)] = 16\n",
    "        ## 1b only\n",
    "PITCHES_subset['baseout_state'].loc[(PITCHES_subset['on_1b'].notnull()) &\n",
    "                (PITCHES_subset['on_2b'].isnull()) &\n",
    "                (PITCHES_subset['on_3b'].isnull()) &\n",
    "                (PITCHES_subset['outs'] == 2)] = 17\n",
    "        ## 2b only\n",
    "PITCHES_subset['baseout_state'].loc[(PITCHES_subset['on_1b'].isnull()) &\n",
    "                (PITCHES_subset['on_2b'].notnull()) &\n",
    "                (PITCHES_subset['on_3b'].isnull()) &\n",
    "                (PITCHES_subset['outs'] == 2)] = 18\n",
    "        ## 3b only\n",
    "PITCHES_subset['baseout_state'].loc[(PITCHES_subset['on_1b'].isnull()) &\n",
    "                (PITCHES_subset['on_2b'].isnull()) &\n",
    "                (PITCHES_subset['on_3b'].notnull()) &\n",
    "                (PITCHES_subset['outs'] == 2)] = 19\n",
    "        ## 1b & 2b\n",
    "PITCHES_subset['baseout_state'].loc[(PITCHES_subset['on_1b'].notnull()) &\n",
    "                (PITCHES_subset['on_2b'].notnull()) &\n",
    "                (PITCHES_subset['on_3b'].isnull()) &\n",
    "                (PITCHES_subset['outs'] == 2)] = 20\n",
    "        ## 1b & 3b\n",
    "PITCHES_subset['baseout_state'].loc[(PITCHES_subset['on_1b'].notnull()) &\n",
    "                (PITCHES_subset['on_2b'].isnull()) &\n",
    "                (PITCHES_subset['on_3b'].notnull()) &\n",
    "                (PITCHES_subset['outs'] == 2)] = 21\n",
    "        ## 2b & 3b\n",
    "PITCHES_subset['baseout_state'].loc[(PITCHES_subset['on_1b'].isnull()) &\n",
    "                (PITCHES_subset['on_2b'].notnull()) &\n",
    "                (PITCHES_subset['on_3b'].notnull()) &\n",
    "                (PITCHES_subset['outs'] == 2)] = 22\n",
    "        ## Loaded\n",
    "PITCHES_subset['baseout_state'].loc[(PITCHES_subset['on_1b'].notnull()) &\n",
    "                (PITCHES_subset['on_2b'].notnull()) &\n",
    "                (PITCHES_subset['on_3b'].notnull()) &\n",
    "                (PITCHES_subset['outs'] == 2)] = 23"
   ]
  },
  {
   "cell_type": "code",
   "execution_count": 18,
   "metadata": {
    "collapsed": true
   },
   "outputs": [],
   "source": [
    "    ## Convert 'baseout_state' column to categorical data.\n",
    "        ## This integrates both 'outs' and 'base_states' and reduces the computation required to integrate categorical runner ID's\n",
    "            ## Runners being on base is important in dictating pitch types, particularly relative to inning\n",
    "                ## and score\n",
    "PITCHES_subset['baseout_state'] = PITCHES_subset['baseout_state'].astype('category')\n",
    "\n",
    "    ## Replace categorical values with integers; batter and pitcher handedness should have\n",
    "        ## a strong impact on pitch type\n",
    "PITCHES_subset['p_throws'] = PITCHES_subset['p_throws'].astype('category')\n",
    "PITCHES_subset['stand'] = PITCHES_subset['p_throws'].astype('category')"
   ]
  },
  {
   "cell_type": "code",
   "execution_count": 19,
   "metadata": {
    "collapsed": true
   },
   "outputs": [],
   "source": [
    "    ## Create dummy variables for handednesses\n",
    "FIRST = pd.get_dummies(PITCHES_subset, columns = ['p_throws', 'stand'],\n",
    "                     drop_first = True)\n",
    "    ## Re-order\n",
    "FIRST = FIRST[['inning', 'pcount_pitcher', 'balls', 'strikes', 'outs',\n",
    "                                  'stand_R', 'p_throws_R',\n",
    "                                  'away_team_runs', 'home_team_runs', 'baseout_state',\n",
    "                                  'pitch_type', ]]\n",
    "    ## Create dummy variables for baseout_state and pitch_type\n",
    "FIRST = pd.get_dummies(FIRST, columns = ['baseout_state'], drop_first = False)"
   ]
  },
  {
   "cell_type": "code",
   "execution_count": 20,
   "metadata": {
    "collapsed": true
   },
   "outputs": [],
   "source": [
    "    ## Split the data for fitting and eval; use a larger test size to speed computation/fitting and\n",
    "        ##to prevent overfitting\n",
    "X_train, X_test, y_train, y_test = train_test_split(FIRST.loc[:, FIRST.columns != 'pitch_type'],\n",
    "                                                    FIRST.loc[:, 'pitch_type' ].astype('object'),\n",
    "                                                    test_size = 0.25)"
   ]
  },
  {
   "cell_type": "markdown",
   "metadata": {},
   "source": [
    "# Train a gradient-boosted machine (tree)\n",
    "# Use KFold cross-validation (because of data size) to test.\n",
    "Get a feel for which features are important; probably too dense for `SVM`"
   ]
  },
  {
   "cell_type": "code",
   "execution_count": 21,
   "metadata": {},
   "outputs": [
    {
     "name": "stdout",
     "output_type": "stream",
     "text": [
      "Feature: 0, Score: 5411.00000\n",
      "Feature: 1, Score: 10181.00000\n",
      "Feature: 2, Score: 3739.00000\n",
      "Feature: 3, Score: 3060.00000\n",
      "Feature: 4, Score: 917.00000\n",
      "Feature: 5, Score: 1605.00000\n",
      "Feature: 6, Score: 0.00000\n",
      "Feature: 7, Score: 5267.00000\n",
      "Feature: 8, Score: 4270.00000\n",
      "Feature: 9, Score: 724.00000\n",
      "Feature: 10, Score: 255.00000\n",
      "Feature: 11, Score: 112.00000\n",
      "Feature: 12, Score: 24.00000\n",
      "Feature: 13, Score: 65.00000\n",
      "Feature: 14, Score: 24.00000\n",
      "Feature: 15, Score: 31.00000\n",
      "Feature: 16, Score: 20.00000\n",
      "Feature: 17, Score: 373.00000\n",
      "Feature: 18, Score: 332.00000\n",
      "Feature: 19, Score: 158.00000\n",
      "Feature: 20, Score: 119.00000\n",
      "Feature: 21, Score: 105.00000\n",
      "Feature: 22, Score: 53.00000\n",
      "Feature: 23, Score: 114.00000\n",
      "Feature: 24, Score: 58.00000\n",
      "Feature: 25, Score: 358.00000\n",
      "Feature: 26, Score: 258.00000\n",
      "Feature: 27, Score: 247.00000\n",
      "Feature: 28, Score: 669.00000\n",
      "Feature: 29, Score: 144.00000\n",
      "Feature: 30, Score: 56.00000\n",
      "Feature: 31, Score: 171.00000\n",
      "Feature: 32, Score: 80.00000\n"
     ]
    },
    {
     "data": {
      "image/png": "[encoded data removed]",
      "text/plain": [
       "<matplotlib.figure.Figure at 0x2589f96bf28>"
      ]
     },
     "metadata": {},
     "output_type": "display_data"
    }
   ],
   "source": [
    "model_Boost = LGBMClassifier()\n",
    "    ## Fit the model\n",
    "unopt_Boostfit = model_Boost.fit(X_train, y_train) ## Takes ~ 15s \n",
    "    ## (less than time between pitches in an MLB game)\n",
    "\n",
    "unopt_importance = unopt_Boostfit.feature_importances_\n",
    "unopt_importance_feature_names = unopt_Boostfit.feature_name_\n",
    "\n",
    "for i,v in enumerate(unopt_importance):\n",
    "    print('Feature: %0d, Score: %.5f' % (i,v))\n",
    "unopt_importance_feature_names\n",
    "plt.bar([x for x in range(len(unopt_importance))], unopt_importance)\n",
    "plt.xticks(range(len(unopt_importance_feature_names)), unopt_importance_feature_names[:], rotation = 45)\n",
    "plt.show()"
   ]
  },
  {
   "cell_type": "code",
   "execution_count": 22,
   "metadata": {},
   "outputs": [
    {
     "data": {
      "text/plain": [
       "0.31274034302426174"
      ]
     },
     "execution_count": 22,
     "metadata": {},
     "output_type": "execute_result"
    }
   ],
   "source": [
    "accuracy_score(y_test, unopt_Boostfit.predict(X_test))"
   ]
  },
  {
   "cell_type": "code",
   "execution_count": 23,
   "metadata": {},
   "outputs": [
    {
     "data": {
      "text/plain": [
       "pred_class\n",
       "CH        1.729633\n",
       "CU        0.883514\n",
       "FC        0.851142\n",
       "FF       88.109125\n",
       "FS        0.159066\n",
       "FT        1.639774\n",
       "IN        0.618962\n",
       "KC        0.188647\n",
       "KN        0.152368\n",
       "OTHER     0.144555\n",
       "SI        1.595682\n",
       "SL        3.907999\n",
       "UN        0.019534\n",
       "dtype: float64"
      ]
     },
     "execution_count": 23,
     "metadata": {},
     "output_type": "execute_result"
    }
   ],
   "source": [
    "preds = pd.DataFrame({'pred_class' : unopt_Boostfit.predict(X_test)})\n",
    "pred_probs = unopt_Boostfit.predict_proba(X_test)\n",
    "pred_probs = pd.DataFrame(pred_probs)\n",
    "pred_probs.columns = [pitch_type_list]\n",
    "\n",
    "preds.groupby('pred_class').size() / len(preds) * 100"
   ]
  },
  {
   "cell_type": "code",
   "execution_count": 24,
   "metadata": {
    "collapsed": true
   },
   "outputs": [],
   "source": [
    "del preds, pred_probs, model_Boost, unopt_Boostfit"
   ]
  },
  {
   "cell_type": "markdown",
   "metadata": {},
   "source": [
    "**Predicted fastballs in 82% of cases** when trained on 3/4 the data\n",
    "     with a **30% accuracy** (not the best model evaluation measure).\n",
    "     \n",
    "Suggests a skew, suggests overfit and likely influenced\n",
    "    by an uneven distribution of labels/events/categories and\n",
    "    unscalable variables also likely key contributors\n",
    "\n",
    "Use different features: **not baseout states, balls/strikes/outs, handedness, or inning, or counted data**.\n",
    "Try to **reduce features as much as possible**: `score`, `game_pk`, `pitcher_id`, `batter_id`.\n",
    "    \n",
    "Also **consider a naive Bayes classifier**; OneVsRest `SVM` is too costly"
   ]
  },
  {
   "cell_type": "markdown",
   "metadata": {},
   "source": [
    "Re-examine; **use fewer, different variables**"
   ]
  },
  {
   "cell_type": "code",
   "execution_count": 25,
   "metadata": {},
   "outputs": [
    {
     "name": "stderr",
     "output_type": "stream",
     "text": [
      "C:\\Users\\Erik\\Desktop\\Programming\\Python\\WinPython-64bit-3.6.1.0Qt5\\python-3.6.1.amd64\\lib\\site-packages\\pandas\\core\\indexing.py:670: SettingWithCopyWarning: \n",
      "A value is trying to be set on a copy of a slice from a DataFrame\n",
      "\n",
      "See the caveats in the documentation: https://pandas.pydata.org/pandas-docs/stable/user_guide/indexing.html#returning-a-view-versus-a-copy\n",
      "  iloc._setitem_with_indexer(indexer, value)\n"
     ]
    }
   ],
   "source": [
    "SECOND = PITCHES.loc[PITCHES['pitch_type'].notnull(),\n",
    "                     ['pitcher_id', 'away_team_runs', 'home_team_runs', 'pitch_type']]\n",
    "\n",
    "    ## Lump the data together; reclassify as \"OTHER\"\n",
    "SECOND['pitch_type'].loc[\n",
    "        (SECOND['pitch_type'] == 'AB') | \n",
    "        (SECOND['pitch_type'] == 'FA') | \n",
    "        (SECOND['pitch_type'] == 'PO') |\n",
    "        (SECOND['pitch_type'] == 'FO') |\n",
    "        (SECOND['pitch_type'] == 'EP') |\n",
    "        (SECOND['pitch_type'] == 'SC')] = 'OTHER' \n",
    "\n",
    "     ## Create a list of the pitch types\n",
    "pitch_type_list = SECOND['pitch_type'].unique().tolist()\n",
    "\n",
    "    ## Loop over the list and create a column of integer encoded values to examine the freq dist. of the pitch types\n",
    "for i in range(len(pitch_type_list)):\n",
    "    SECOND.loc[ SECOND['pitch_type'] == pitch_type_list[i], 'pitch_type_int'] = i+1\n",
    "    ## Create a corresponding integer-encoded list of those pitch_type values/integers\n",
    "pitch_type_list_int = [i+1 for i in range(len(pitch_type_list))]"
   ]
  },
  {
   "cell_type": "code",
   "execution_count": 26,
   "metadata": {
    "collapsed": true
   },
   "outputs": [],
   "source": [
    "    ## Replace categorical values with integers\n",
    "SECOND['pitcher_id'] = SECOND['pitcher_id'].astype('category')\n",
    "    ## Re-arrange for convenient indexing\n",
    "SECOND = SECOND.loc[:, ['pitch_type', 'pitch_type_int', 'home_team_runs', 'away_team_runs', 'pitcher_id']]\n",
    "\n",
    "    ## Create dummy variables for pitcher_id\n",
    "SECOND = pd.get_dummies(SECOND, columns = ['pitcher_id'])"
   ]
  },
  {
   "cell_type": "code",
   "execution_count": 27,
   "metadata": {
    "collapsed": true
   },
   "outputs": [],
   "source": [
    "    ## Split the data for fitting and eval\n",
    "X_train, X_test, y_train, y_test = train_test_split(SECOND.iloc[:, 2:],\n",
    "                                                    SECOND.loc[:, 'pitch_type' ].astype('object'),\n",
    "                                                    test_size = 0.40)"
   ]
  },
  {
   "cell_type": "markdown",
   "metadata": {},
   "source": [
    " Compare three models:\n",
    "     \n",
    "     an un-crossvalidated gbm\n",
    "     a gridsearch KFold bgm model \n",
    "     a naive Bayes model"
   ]
  },
  {
   "cell_type": "code",
   "execution_count": null,
   "metadata": {
    "collapsed": true
   },
   "outputs": [],
   "source": [
    "model_Boost = LGBMClassifier()\n",
    "model_BoostCV = LGBMClassifier()\n",
    "model_CNB = ComplementNB()\n",
    "KF = KFold(n_splits = 5)\n",
    "\n",
    "    ## Optimize boost_model regularization parameter to prevent overfitting\n",
    "        ## and counteract the smaller training data set\n",
    "BoostModel_optimized_params = [{'reg_alpha': [0, 1, 5]\n",
    "                                }]\n",
    "\n",
    "clf_Boost_KFold = GridSearchCV(model_BoostCV, param_grid = BoostModel_optimized_params,\n",
    "                               cv = KF, n_jobs = 1, verbose = 1)"
   ]
  },
  {
   "cell_type": "code",
   "execution_count": null,
   "metadata": {},
   "outputs": [
    {
     "name": "stdout",
     "output_type": "stream",
     "text": [
      "Fitting 5 folds for each of 3 candidates, totalling 15 fits\n"
     ]
    }
   ],
   "source": [
    "    ## Partition some of the data for gridsearch\n",
    "Griddata = sample(list(range(SECOND.shape[0])), round(len(SECOND)*.9))\n",
    "Gridtestdata = list(set(range(SECOND.shape[0])).difference(Griddata))\n",
    "\n",
    "    ## Fit the model to optimize regularization parameter; ~ 6 min\n",
    "BoostCVfit = clf_Boost_KFold.fit(SECOND.iloc[Griddata,2:],\n",
    "                        SECOND.iloc[Griddata,0])"
   ]
  },
  {
   "cell_type": "code",
   "execution_count": null,
   "metadata": {
    "collapsed": true
   },
   "outputs": [],
   "source": [
    "    ## Best score?\n",
    "BoostCVfit.best_score_\n",
    "    ## Optimal reg.?\n",
    "BoostCVfit.best_params_ # Use for BestBoost"
   ]
  },
  {
   "cell_type": "code",
   "execution_count": null,
   "metadata": {
    "collapsed": true
   },
   "outputs": [],
   "source": [
    "    ## Fit all models\n",
    "model_CV = LGBMClassifier(reg_alpha = 1)\n",
    "    ## \"Optimized\" BoostedGradientMachine; has already been trained to optimize hyperparameters\n",
    "        ## hence, the partition\n",
    "model_CV.fit(SECOND.iloc[Gridtestdata,2:], SECOND.iloc[Gridtestdata,0])"
   ]
  },
  {
   "cell_type": "code",
   "execution_count": null,
   "metadata": {
    "collapsed": true
   },
   "outputs": [],
   "source": [
    "    ## \"Un-optimized BoostedGradientMachine\n",
    "model_Boost.fit(X_train, y_train)"
   ]
  },
  {
   "cell_type": "code",
   "execution_count": null,
   "metadata": {
    "collapsed": true
   },
   "outputs": [],
   "source": [
    "    ## Naive Bayes Complement Classifier\n",
    "model_CNB.fit(X_train, y_train)"
   ]
  },
  {
   "cell_type": "markdown",
   "metadata": {},
   "source": [
    "# Collect the predictions and predicted probabilities for evaluation"
   ]
  },
  {
   "cell_type": "code",
   "execution_count": null,
   "metadata": {
    "collapsed": true
   },
   "outputs": [],
   "source": [
    "   ## CV GBM model\n",
    "CV_preds = pd.DataFrame({'pred_class':\n",
    "    model_CV.fit(SECOND.iloc[Gridtestdata,2:],\n",
    "                        SECOND.iloc[Gridtestdata,0]).predict(X_test)})"
   ]
  },
  {
   "cell_type": "code",
   "execution_count": null,
   "metadata": {
    "collapsed": true
   },
   "outputs": [],
   "source": [
    "CV_pred_probs = model_CV.predict_proba(X_test)\n",
    "CV_pred_probs = pd.DataFrame(CV_pred_probs)"
   ]
  },
  {
   "cell_type": "code",
   "execution_count": null,
   "metadata": {
    "collapsed": true
   },
   "outputs": [],
   "source": [
    "    ## Un cross-validated GBM model\n",
    "Boost_preds = pd.DataFrame({'pred_class':\n",
    "    model_Boost.fit(X_train, y_train).predict(X_test)})"
   ]
  },
  {
   "cell_type": "code",
   "execution_count": null,
   "metadata": {
    "collapsed": true
   },
   "outputs": [],
   "source": [
    "Boost_pred_probs = model_Boost.fit(X_train, y_train).predict_proba(X_test)\n",
    "Boost_pred_probs = pd.DataFrame(Boost_pred_probs)"
   ]
  },
  {
   "cell_type": "code",
   "execution_count": null,
   "metadata": {
    "collapsed": true
   },
   "outputs": [],
   "source": [
    "    ## Naive Bayes model\n",
    "Bayes_preds = pd.DataFrame({'pred_class':\n",
    "    model_CNB.fit(X_train, y_train).predict(X_test)})"
   ]
  },
  {
   "cell_type": "code",
   "execution_count": null,
   "metadata": {
    "collapsed": true
   },
   "outputs": [],
   "source": [
    "Bayes_pred_probs = model_CNB.fit(X_train, y_train).predict_proba(X_test)\n",
    "Bayes_pred_probs = pd.DataFrame(Bayes_pred_probs)"
   ]
  },
  {
   "cell_type": "code",
   "execution_count": null,
   "metadata": {
    "collapsed": true
   },
   "outputs": [],
   "source": [
    "    ## Accuracy scores don't mean on their own for multi-class classifications, but may be useful\n",
    "accuracy_score(y_test, model_Boost.fit(X_train, y_train).predict(X_test))"
   ]
  },
  {
   "cell_type": "code",
   "execution_count": null,
   "metadata": {
    "collapsed": true
   },
   "outputs": [],
   "source": [
    "accuracy_score(y_test, model_CV.fit(SECOND.iloc[Gridtestdata,2:],\n",
    "                                           SECOND.iloc[Gridtestdata,0]).predict(X_test))"
   ]
  },
  {
   "cell_type": "code",
   "execution_count": null,
   "metadata": {
    "collapsed": true
   },
   "outputs": [],
   "source": [
    "accuracy_score(y_test, model_CNB.fit(X_train, y_train).predict(X_test))"
   ]
  },
  {
   "cell_type": "code",
   "execution_count": null,
   "metadata": {
    "collapsed": true
   },
   "outputs": [],
   "source": [
    "    ## See if balancing the observations improves model performance\n",
    "class_weight = class_weight.compute_class_weight('balanced', \n",
    "                                                 SECOND.iloc[Gridtestdata,0].unique(),\n",
    "                                                 SECOND.iloc[Gridtestdata,0])    \n",
    "    ## Use in CV GBM model\n",
    "model_CV.fit(X_train, y_train, eval_class_weight = class_weight, verbose = 1)"
   ]
  },
  {
   "cell_type": "code",
   "execution_count": null,
   "metadata": {
    "collapsed": true
   },
   "outputs": [],
   "source": [
    "    ## Does model improve accuracy?\n",
    "accuracy_score(y_test, model_CV.fit(SECOND.iloc[Gridtestdata,2:],\n",
    "                                           SECOND.iloc[Gridtestdata,0],\n",
    "                                           eval_class_weight = class_weight).predict(X_test)) ## Not at all"
   ]
  },
  {
   "cell_type": "code",
   "execution_count": null,
   "metadata": {
    "collapsed": true
   },
   "outputs": [],
   "source": [
    "    ## What do the predictions look like?\n",
    "Boost_preds.groupby(['pred_class']).size() / len(Boost_preds) * 100\n",
    "CV_preds.groupby(['pred_class']).size() / len(CV_preds) *100\n",
    "Bayes_preds.groupby(['pred_class']).size() / len(Bayes_preds) * 100"
   ]
  },
  {
   "cell_type": "markdown",
   "metadata": {},
   "source": [
    "# Confusion matrices"
   ]
  },
  {
   "cell_type": "code",
   "execution_count": null,
   "metadata": {
    "collapsed": true
   },
   "outputs": [],
   "source": [
    "Boost_cnf_matrix = confusion_matrix(y_test, Boost_preds)\n",
    "CV_cnf_matrix = confusion_matrix(y_test, CV_preds)\n",
    "Bayes_cnf_matrix = confusion_matrix(y_test, Bayes_preds)"
   ]
  },
  {
   "cell_type": "code",
   "execution_count": null,
   "metadata": {
    "collapsed": true
   },
   "outputs": [],
   "source": [
    "## Plot Boost (no CV) confusion matrix\n",
    "norm_conf = []\n",
    "for i in Boost_cnf_matrix:\n",
    "    a = 0\n",
    "    tmp = []\n",
    "    a = sum(i, 0)\n",
    "    for j in i:\n",
    "        tmp.append(float(j)/float(a))\n",
    "    norm_conf.append(tmp)\n",
    "\n",
    "fig = plt.figure()\n",
    "plt.clf()\n",
    "ax = fig.add_subplot(111)\n",
    "ax.set_aspect(1)\n",
    "res = ax.imshow(np.array(norm_conf), cmap=plt.cm.jet, \n",
    "                interpolation='nearest')\n",
    "\n",
    "width, height = Boost_cnf_matrix.shape\n",
    "\n",
    "for x in range(width):\n",
    "    for y in range(height):\n",
    "        ax.annotate(str(Boost_cnf_matrix[x][y]), xy=(y, x), \n",
    "                    horizontalalignment='center',\n",
    "                    verticalalignment='center')\n",
    "\n",
    "cb = fig.colorbar(res)\n",
    "plt.xticks(range(width), pitch_type_list[:width])\n",
    "plt.yticks(range(height), pitch_type_list[:height])\n",
    "plt.title('Gradient-Boosted Machine Classification Confusion Matrix')\n",
    "plt.show()"
   ]
  },
  {
   "cell_type": "code",
   "execution_count": null,
   "metadata": {
    "collapsed": true
   },
   "outputs": [],
   "source": [
    "## Plot Boost +CV confusion matrix\n",
    "norm_conf = []\n",
    "for i in CV_cnf_matrix:\n",
    "    a = 0\n",
    "    tmp = []\n",
    "    a = sum(i, 0)\n",
    "    for j in i:\n",
    "        tmp.append(float(j)/float(a))\n",
    "    norm_conf.append(tmp)\n",
    "\n",
    "fig = plt.figure()\n",
    "plt.clf()\n",
    "ax = fig.add_subplot(111)\n",
    "ax.set_aspect(1)\n",
    "res = ax.imshow(np.array(norm_conf), cmap=plt.cm.jet, \n",
    "                interpolation='nearest')\n",
    "\n",
    "width, height = CV_cnf_matrix.shape\n",
    "\n",
    "for x in range(width):\n",
    "    for y in range(height):\n",
    "        ax.annotate(str(CV_cnf_matrix[x][y]), xy=(y, x), \n",
    "                    horizontalalignment='center',\n",
    "                    verticalalignment='center')\n",
    "\n",
    "cb = fig.colorbar(res)\n",
    "plt.xticks(range(width), pitch_type_list[:width])\n",
    "plt.yticks(range(height), pitch_type_list[:height])\n",
    "plt.title('K-Fold, regularized Gradient-Boosted Machine Classification Confusion Matrix')\n",
    "plt.show()"
   ]
  },
  {
   "cell_type": "code",
   "execution_count": null,
   "metadata": {
    "collapsed": true
   },
   "outputs": [],
   "source": [
    "## Plot Boost naive Bayes confusion matrix\n",
    "norm_conf = []\n",
    "for i in Bayes_cnf_matrix:\n",
    "    a = 0\n",
    "    tmp = []\n",
    "    a = sum(i, 0)\n",
    "    for j in i:\n",
    "        tmp.append(float(j)/float(a))\n",
    "    norm_conf.append(tmp)\n",
    "\n",
    "fig = plt.figure()\n",
    "plt.clf()\n",
    "ax = fig.add_subplot(111)\n",
    "ax.set_aspect(1)\n",
    "res = ax.imshow(np.array(norm_conf), cmap=plt.cm.jet, \n",
    "                interpolation='nearest')\n",
    "\n",
    "width, height = Bayes_cnf_matrix.shape\n",
    "\n",
    "for x in range(width):\n",
    "    for y in range(height):\n",
    "        ax.annotate(str(Bayes_cnf_matrix[x][y]), xy=(y, x), \n",
    "                    horizontalalignment='center',\n",
    "                    verticalalignment='center')\n",
    "\n",
    "cb = fig.colorbar(res)\n",
    "plt.xticks(range(width), pitch_type_list[:width])\n",
    "plt.yticks(range(height), pitch_type_list[:height])\n",
    "plt.title('Naive Bayes Complement Classification Confusion Matrix')\n",
    "plt.show()"
   ]
  },
  {
   "cell_type": "code",
   "execution_count": null,
   "metadata": {
    "collapsed": true
   },
   "outputs": [],
   "source": []
  },
  {
   "cell_type": "markdown",
   "metadata": {},
   "source": [
    "# Precision, Recall, F-scores"
   ]
  },
  {
   "cell_type": "code",
   "execution_count": null,
   "metadata": {
    "collapsed": true
   },
   "outputs": [],
   "source": [
    "    ## Find precision, recall and f-scores\n",
    "        ## For the gbm\n",
    "            ## for each pitch type\n",
    "Boost_scores_by_pitch = precision_recall_fscore_support(np.array(y_test),\n",
    "                                Boost_preds)\n",
    "            ## averaged across all pitch_types\n",
    "Boost_global_scores = precision_recall_fscore_support(np.array(y_test),\n",
    "                                Boost_preds, average= 'macro')\n",
    "        ## For the gridsearch cv gbm\n",
    "            ## for each pitch type\n",
    "CV_scores_by_pitch = precision_recall_fscore_support(np.array(y_test),\n",
    "                                CV_preds)\n",
    "            ## averaged across all pitch types\n",
    "CV_global_scores = precision_recall_fscore_support(np.array(y_test),\n",
    "                                CV_preds, average= 'macro')\n",
    "        ## For the NB\n",
    "            ## for each pitch type\n",
    "Bayes_scores_by_pitch = precision_recall_fscore_support(np.array(y_test),\n",
    "                                Bayes_preds)\n",
    "            ## averaged across all pitch types\n",
    "Bayes_global_scores = precision_recall_fscore_support(np.array(y_test),\n",
    "                                Bayes_preds, average= 'macro')"
   ]
  },
  {
   "cell_type": "code",
   "execution_count": null,
   "metadata": {
    "collapsed": true
   },
   "outputs": [],
   "source": [
    "    ## Store in a matrix\n",
    "Model_Scores_Mat = pd.DataFrame({'GBM': Boost_global_scores[:3], \n",
    "                                 'GridsearchCV GBM': CV_global_scores[:3],\n",
    "                                 'naive Bayes': Bayes_global_scores[:3]}, index = ['precision', 'recall', 'F-score'])"
   ]
  },
  {
   "cell_type": "markdown",
   "metadata": {},
   "source": [
    " `CV` is more precise, and accurate, but takes too long to optimize and re-fit.\n",
    " `Naive Bayes` is faster, comparably precise and accurate. Model is less biased towards `Sinkers` (SI)."
   ]
  },
  {
   "cell_type": "markdown",
   "metadata": {},
   "source": [
    "# Extract predicted probabilities from the test data"
   ]
  },
  {
   "cell_type": "code",
   "execution_count": null,
   "metadata": {
    "collapsed": true
   },
   "outputs": [],
   "source": [
    "    ## Re-name column\n",
    "Bayes_pred_probs.columns = pitch_type_list\n",
    "    ## Append actual calls\n",
    "Bayes_pred_probs  = Bayes_pred_probs.assign(Predicted = Bayes_preds)\n",
    "    ## --> Calls are not the same as the maximum predicted probability"
   ]
  },
  {
   "cell_type": "markdown",
   "metadata": {},
   "source": [
    " Conclusions and Future Directions:\n",
    " \n",
    "With a goal to compare three different alogrithms, the **naive Bayes seemed to offer\n",
    "comparable performance** (based on confusion matrix with something resembling a diagonal; also\n",
    "based on the relative frequencies of predicted pitches to those from the original data; on `precision`,\n",
    "`recall` and `F-score`) without the computation drag. Makes sense: it's supposed to discard rare events,\n",
    "and many pitches were <= 1% of all pitches. Makes a more generalizable model with predictions that are\n",
    "more realistic (not just predicting every pitch to be a 4sm fastball (`FF`) ). Also, if given the choice between\n",
    "two similar-performing models with similar computation time, I'd choose the model that returns more realistic\n",
    "predictions (not just predicting all 4sm fastballs). \n",
    "     \n",
    "Feature engineering is key, here, and at least as much as choosing the appropriate model.\n",
    "Reducing dimensions is critical, and dimensionality reduction was another approach I considered.\n",
    "**With the emphasis on real-time (and deadline constraints), I thought manually stripping down the\n",
    "variables would suffice**. I took a broad, ambitious route, and I would have liked to explore\n",
    "learning rate and regularization parameters.\n",
    "     \n",
    "Cross-validating/gridseaching quickly enough in a real-time (pitch-to-pitch) setting to re-fit and test models\n",
    "to derive probabilities is a huge challenge, but I think **one good way to go: building a cross-validated\n",
    "GBM offline and testing it without re-fitting in real-time** seems like a valid strategy; could be used \n",
    "to optimize learning rate and regularization parameters.\n",
    "     \n",
    "I did not e.g. create a function that could return pitch type probabilities derived from a model\n",
    "given the requisite inputs to that model. Obviously, building a model offline and updating it in\n",
    "real-time is the ideal strategy.\n",
    "     \n",
    "The **ultimate goal is crucial**: is this for all games simultaneously (i.e. how general?)?\n",
    "It matters because I tried to capture categorical variables that should have a strong impact \n",
    "on predictions/accuracy: **a pitcher who doesn't throw knuckleballs isn't likely to throw knuckleballs in reality!**\n",
    "So, when given the choice between features most important to the `pitch type` (`pitcher ID`, `batter ID`, `game`),\n",
    "I chose the smallest of the three variables for computation speed.\n",
    "Also, **building pitch type probability models specific to each pitcher** would obviously be an interesting and more accurate goal\n",
    "than generalizing across all pitchers."
   ]
  }
 ],
 "metadata": {
  "kernelspec": {
   "display_name": "Python 3",
   "language": "python",
   "name": "python3"
  },
  "language_info": {
   "codemirror_mode": {
    "name": "ipython",
    "version": 3
   },
   "file_extension": ".py",
   "mimetype": "text/x-python",
   "name": "python",
   "nbconvert_exporter": "python",
   "pygments_lexer": "ipython3",
   "version": "3.6.1"
  }
 },
 "nbformat": 4,
 "nbformat_minor": 4
}
